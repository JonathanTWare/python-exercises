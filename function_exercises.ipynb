{
 "cells": [
  {
   "cell_type": "markdown",
   "id": "68daeb87",
   "metadata": {},
   "source": [
    "### 1.Define a function named `is_two`. It should accept one input and return `True` if the passed input is either the number or the string `2`, `False` otherwise."
   ]
  },
  {
   "cell_type": "code",
   "execution_count": null,
   "id": "abed26ca",
   "metadata": {},
   "outputs": [],
   "source": [
    "\n",
    "def is_two(i):\n",
    "    if i == 2 or i=='2':\n",
    "        return True\n",
    "    else:\n",
    "        return False"
   ]
  },
  {
   "cell_type": "code",
   "execution_count": null,
   "id": "866bcbb0",
   "metadata": {},
   "outputs": [],
   "source": [
    "print(is_two('2'))\n",
    "print(is_two(2))\n",
    "print(is_two(3))\n",
    "print(is_two('3'))\n",
    "\n",
    "\n",
    "\n"
   ]
  },
  {
   "cell_type": "markdown",
   "id": "de07dc74",
   "metadata": {},
   "source": [
    "### 2.Define a function named `is_vowel`. It should return `True` if the passed string is a vowel, `False` otherwise."
   ]
  },
  {
   "cell_type": "code",
   "execution_count": null,
   "id": "d36abc2e",
   "metadata": {},
   "outputs": [],
   "source": [
    "def is_vowel(i):\n",
    "    if i in ['a','e','i','o','u']:\n",
    "        return True\n",
    "    else:\n",
    "        return False"
   ]
  },
  {
   "cell_type": "code",
   "execution_count": null,
   "id": "a425ce5d",
   "metadata": {},
   "outputs": [],
   "source": [
    "print(is_vowel('a'))\n",
    "print(is_vowel('b'))"
   ]
  },
  {
   "cell_type": "markdown",
   "id": "2f4ef19b",
   "metadata": {},
   "source": [
    "### 3.Define a function named `is_consonant`. It should return `True` if the passed string is a consonant, `False` otherwise. Use your `is_vowel` function to accomplish this."
   ]
  },
  {
   "cell_type": "code",
   "execution_count": 30,
   "id": "d86d656d",
   "metadata": {},
   "outputs": [],
   "source": [
    "def is_consonant(c):\n",
    "    v = ['a','e','i','o','u']\n",
    "    if c not in v:\n",
    "        return True\n",
    "    else:\n",
    "        return False"
   ]
  },
  {
   "cell_type": "code",
   "execution_count": 31,
   "id": "9fc70324",
   "metadata": {
    "scrolled": false
   },
   "outputs": [
    {
     "name": "stdout",
     "output_type": "stream",
     "text": [
      "False\n"
     ]
    }
   ],
   "source": [
    "print(is_consonant('a'))"
   ]
  },
  {
   "cell_type": "markdown",
   "id": "523671e3",
   "metadata": {},
   "source": [
    "### 4.Define a function that accepts a string that is a word. The function should capitalize the first letter of the word if the word starts with a consonant."
   ]
  },
  {
   "cell_type": "code",
   "execution_count": 28,
   "id": "f2f5bdda",
   "metadata": {},
   "outputs": [],
   "source": [
    "def is_word(w):\n",
    "    \n",
    "    v = ['a','e','i','o','u']\n",
    "    \n",
    "    if w and w[0].lower() not in v:\n",
    "        return w.capitalize()\n",
    "    else:\n",
    "        return w\n",
    "    \n",
    "        \n",
    "    "
   ]
  },
  {
   "cell_type": "code",
   "execution_count": 29,
   "id": "e87d33ea",
   "metadata": {},
   "outputs": [
    {
     "name": "stdout",
     "output_type": "stream",
     "text": [
      "umbrella\n",
      "Party\n"
     ]
    }
   ],
   "source": [
    "print(is_word('umbrella'))\n",
    "print(is_word('party'))"
   ]
  },
  {
   "cell_type": "markdown",
   "id": "654fc560",
   "metadata": {},
   "source": [
    "#### To exclude numbers"
   ]
  },
  {
   "cell_type": "code",
   "execution_count": 26,
   "id": "3a77a6f5",
   "metadata": {},
   "outputs": [],
   "source": [
    "def is_word(w):\n",
    "    \n",
    "    w = str(w)\n",
    "    \n",
    "    v = ['a','e','i','o','u']\n",
    "    \n",
    "    for c in w:\n",
    "        if c.isdigit():\n",
    "             return('This is not a word.')\n",
    "    \n",
    "    if w and w[0].lower() not in v:\n",
    "        return w.capitalize()\n",
    "    else:\n",
    "        return w"
   ]
  },
  {
   "cell_type": "code",
   "execution_count": 27,
   "id": "3f2c2f4f",
   "metadata": {},
   "outputs": [
    {
     "name": "stdout",
     "output_type": "stream",
     "text": [
      "umbrella\n",
      "Party\n",
      "This is not a word.\n",
      "This is not a word.\n"
     ]
    }
   ],
   "source": [
    "print(is_word('umbrella'))\n",
    "print(is_word('party'))\n",
    "print(is_word(2))\n",
    "print(is_word(22222))"
   ]
  },
  {
   "cell_type": "markdown",
   "id": "fe90d521",
   "metadata": {},
   "source": [
    "### 5.Define a function named `calculate_tip`. It should accept a tip percentage (a number between 0 and 1) and the bill total, and return the amount to tip."
   ]
  },
  {
   "cell_type": "code",
   "execution_count": 33,
   "id": "19da9cdb",
   "metadata": {},
   "outputs": [],
   "source": [
    "def calculate_tip(tip_perc, bill):\n",
    "    return round(bill *tip_perc, 2)"
   ]
  },
  {
   "cell_type": "code",
   "execution_count": null,
   "id": "c9b8a976",
   "metadata": {},
   "outputs": [],
   "source": []
  },
  {
   "cell_type": "markdown",
   "id": "5c9085b4",
   "metadata": {},
   "source": [
    "### 6.Define a function named `apply_discount`. It should accept a original price, and a discount percentage, and return the price after the discount is applied."
   ]
  },
  {
   "cell_type": "code",
   "execution_count": null,
   "id": "23473417",
   "metadata": {},
   "outputs": [],
   "source": []
  },
  {
   "cell_type": "code",
   "execution_count": null,
   "id": "9f18ed04",
   "metadata": {},
   "outputs": [],
   "source": []
  },
  {
   "cell_type": "markdown",
   "id": "d3097517",
   "metadata": {},
   "source": [
    "### 7.Define a function named `handle_commas`. It should accept a string that is a number that contains commas in it as input, and return a number as output."
   ]
  },
  {
   "cell_type": "code",
   "execution_count": 34,
   "id": "71602934",
   "metadata": {},
   "outputs": [],
   "source": [
    "def handle_commas(n):\n",
    "    n = n.replace(',','')\n",
    "    return int(n)"
   ]
  },
  {
   "cell_type": "code",
   "execution_count": 35,
   "id": "b1e704de",
   "metadata": {},
   "outputs": [
    {
     "data": {
      "text/plain": [
       "4000000"
      ]
     },
     "execution_count": 35,
     "metadata": {},
     "output_type": "execute_result"
    }
   ],
   "source": [
    "handle_commas('4,000,000')"
   ]
  },
  {
   "cell_type": "markdown",
   "id": "f6bf6d2e",
   "metadata": {},
   "source": [
    "### 8.Define a function named `get_letter_grade`. It should accept a number and return the letter grade associated with that number (A-F)."
   ]
  },
  {
   "cell_type": "code",
   "execution_count": 36,
   "id": "9340a2cb",
   "metadata": {},
   "outputs": [],
   "source": [
    "def get_letter_grade(num):\n",
    "    \n",
    "    \n",
    "        \n",
    "\n",
    "    if num >= 88:\n",
    "        return('A')\n",
    "        \n",
    "        \n",
    "    elif num >=80:\n",
    "        return('B')\n",
    "        \n",
    "        \n",
    "        \n",
    "        \n",
    "    elif num >= 67:\n",
    "        return('C')\n",
    "       \n",
    "        \n",
    "        \n",
    "    elif num >= 60:\n",
    "        return('D')\n",
    "        \n",
    "        \n",
    "        \n",
    "    elif num >= 0:\n",
    "        return('F')\n",
    "        \n",
    "    "
   ]
  },
  {
   "cell_type": "code",
   "execution_count": 37,
   "id": "21adcdfb",
   "metadata": {},
   "outputs": [
    {
     "name": "stdout",
     "output_type": "stream",
     "text": [
      "A\n",
      "C\n",
      "F\n"
     ]
    }
   ],
   "source": [
    "print(get_letter_grade(91))\n",
    "print(get_letter_grade(75))\n",
    "print(get_letter_grade(25))\n"
   ]
  },
  {
   "cell_type": "markdown",
   "id": "2830f5dd",
   "metadata": {},
   "source": [
    "### 9.Define a function named `remove_vowels` that accepts a string and returns a string with all the vowels removed."
   ]
  },
  {
   "cell_type": "code",
   "execution_count": null,
   "id": "dc5824db",
   "metadata": {},
   "outputs": [],
   "source": []
  },
  {
   "cell_type": "code",
   "execution_count": null,
   "id": "c3873f4a",
   "metadata": {},
   "outputs": [],
   "source": []
  },
  {
   "cell_type": "markdown",
   "id": "dc41df1f",
   "metadata": {},
   "source": [
    "### 10.Define a function named `normalize_name`. It should accept a string and return a valid python identifier, that is:\n",
    "   #### * anything that is not a valid python identifier should be removed\n",
    "   #### * leading and trailing whitespace should be removed\n",
    "   #### * everything should be lowercase\n",
    "   #### * spaces should be replaced with underscores\n",
    "   ### for example:\n",
    "####        * `Name` will become `name`\n",
    "####        * `First Name` will become `first_name`\n",
    "####        * `% Completed` will become `completed`"
   ]
  },
  {
   "cell_type": "code",
   "execution_count": null,
   "id": "0b73aa6e",
   "metadata": {},
   "outputs": [],
   "source": [
    "def normalize_name(str):\n",
    "    str = str.strip()\n",
    "    str = str.lower()\n",
    "    str = str.replace(' ', '_')\n",
    "    \n",
    "    \n",
    "    return str\n",
    "    "
   ]
  },
  {
   "cell_type": "code",
   "execution_count": null,
   "id": "114a808a",
   "metadata": {},
   "outputs": [],
   "source": []
  },
  {
   "cell_type": "markdown",
   "id": "b38c52bf",
   "metadata": {},
   "source": [
    "### 11.Write a function named `cumulative_sum` that accepts a list of numbers and returns a list that is the cumulative sum of the numbers in the list.\n",
    "\n",
    "####    * `cumulative_sum([1, 1, 1])` returns `[1, 2, 3]`\n",
    "####    * `cumulative_sum([1, 2, 3, 4])` returns `[1, 3, 6, 10]`"
   ]
  },
  {
   "cell_type": "code",
   "execution_count": 38,
   "id": "621fd7ac",
   "metadata": {},
   "outputs": [
    {
     "ename": "SyntaxError",
     "evalue": "incomplete input (3731387197.py, line 4)",
     "output_type": "error",
     "traceback": [
      "\u001b[0;36m  Cell \u001b[0;32mIn[38], line 4\u001b[0;36m\u001b[0m\n\u001b[0;31m    for n in range(len(numbers) - 1):\u001b[0m\n\u001b[0m                                     ^\u001b[0m\n\u001b[0;31mSyntaxError\u001b[0m\u001b[0;31m:\u001b[0m incomplete input\n"
     ]
    }
   ],
   "source": [
    "def cumulative_sum(numbers):\n",
    "    new_list = [numbers[0]]\n",
    "    running_total = numbers[0]\n",
    "    for n in range(len(numbers) - 1):\n",
    "        n= n = 1\n",
    "        new_list.append"
   ]
  },
  {
   "cell_type": "code",
   "execution_count": null,
   "id": "0540c530",
   "metadata": {},
   "outputs": [],
   "source": []
  }
 ],
 "metadata": {
  "kernelspec": {
   "display_name": "Python 3 (ipykernel)",
   "language": "python",
   "name": "python3"
  },
  "language_info": {
   "codemirror_mode": {
    "name": "ipython",
    "version": 3
   },
   "file_extension": ".py",
   "mimetype": "text/x-python",
   "name": "python",
   "nbconvert_exporter": "python",
   "pygments_lexer": "ipython3",
   "version": "3.10.9"
  }
 },
 "nbformat": 4,
 "nbformat_minor": 5
}
