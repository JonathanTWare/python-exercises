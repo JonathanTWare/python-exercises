{
 "cells": [
  {
   "cell_type": "code",
   "execution_count": null,
   "id": "3b01ef07",
   "metadata": {},
   "outputs": [],
   "source": [
    "Shortcut_return = \"use RETURN to enter edit mode\"\n",
    "print(Shortcut_return);"
   ]
  },
  {
   "cell_type": "markdown",
   "id": "a67a6c1f",
   "metadata": {},
   "source": [
    "This will help learn to use Return Key to enter into edit mode."
   ]
  },
  {
   "cell_type": "code",
   "execution_count": 1,
   "id": "2c84f510",
   "metadata": {},
   "outputs": [
    {
     "name": "stdout",
     "output_type": "stream",
     "text": [
      "While in command mode, press D twice to delete row\n"
     ]
    }
   ],
   "source": [
    "Shortcut_d_d = \"While in command mode, press D twice to delete row\"\n",
    "print(Shortcut_d_d);"
   ]
  },
  {
   "cell_type": "markdown",
   "id": "ecf5934f",
   "metadata": {},
   "source": [
    "When a mistake is made the above code will tell you to use D on the keyboard to delete a row in Jupyter Notebook."
   ]
  },
  {
   "cell_type": "code",
   "execution_count": 2,
   "id": "ee95cc77",
   "metadata": {},
   "outputs": [
    {
     "name": "stdout",
     "output_type": "stream",
     "text": [
      "While in command mode, press A to add a row above, and B to add a row below\n"
     ]
    }
   ],
   "source": [
    "Shortcut_a_and_b = \"While in command mode, press A to add a row above, and B to add a row below\"\n",
    "print(Shortcut_a_and_b);"
   ]
  },
  {
   "cell_type": "markdown",
   "id": "41485c8d",
   "metadata": {},
   "source": [
    "When needing to add additional rows above and below the above code will help you pick the right keys."
   ]
  }
 ],
 "metadata": {
  "kernelspec": {
   "display_name": "Python 3 (ipykernel)",
   "language": "python",
   "name": "python3"
  },
  "language_info": {
   "codemirror_mode": {
    "name": "ipython",
    "version": 3
   },
   "file_extension": ".py",
   "mimetype": "text/x-python",
   "name": "python",
   "nbconvert_exporter": "python",
   "pygments_lexer": "ipython3",
   "version": "3.10.9"
  }
 },
 "nbformat": 4,
 "nbformat_minor": 5
}
