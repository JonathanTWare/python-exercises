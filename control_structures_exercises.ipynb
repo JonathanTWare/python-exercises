{
 "cells": [
  {
   "cell_type": "markdown",
   "id": "7f0e49da",
   "metadata": {},
   "source": [
    "# Conditional Basics"
   ]
  },
  {
   "cell_type": "markdown",
   "id": "d3e72cee",
   "metadata": {},
   "source": [
    "## Prompt the user for a day of the week, print out whether the day is Monday or not"
   ]
  },
  {
   "cell_type": "code",
   "execution_count": 1,
   "id": "dffc7f96",
   "metadata": {},
   "outputs": [
    {
     "name": "stdout",
     "output_type": "stream",
     "text": [
      "What day of the week is it? monday\n",
      "Its a Monday!\n"
     ]
    }
   ],
   "source": [
    "Day = input('What day of the week is it? ')\n",
    "\n",
    "if Day == 'monday'or Day =='Monday':\n",
    "    print('Its a Monday!')\n",
    "else:\n",
    "    print('It is not Monday yet')"
   ]
  },
  {
   "cell_type": "markdown",
   "id": "0d075dda",
   "metadata": {},
   "source": [
    "## Prompt the user for a day of the week, print out whether the day is a weekday or a weekend"
   ]
  },
  {
   "cell_type": "code",
   "execution_count": 2,
   "id": "32d9d598",
   "metadata": {},
   "outputs": [
    {
     "name": "stdout",
     "output_type": "stream",
     "text": [
      "What day of the week is it? tuesday\n",
      "its a weekday today!\n"
     ]
    }
   ],
   "source": [
    "Day =input('What day of the week is it? ')\n",
    "weekday = ['monday', 'tuesday','wednesday','thursday','friday']\n",
    "weekend = ['saturday','sunday']\n",
    "\n",
    "if Day.lower() in weekday:\n",
    "    print('its a weekday today!')\n",
    "if Day.lower() in weekend:\n",
    "    print('its a weekend!')\n"
   ]
  },
  {
   "cell_type": "markdown",
   "id": "0e380a20",
   "metadata": {},
   "source": [
    "## Calculate a weekly paycheck, accounting for overtime pay. Create variables and make up values for:"
   ]
  },
  {
   "cell_type": "markdown",
   "id": "61a76688",
   "metadata": {},
   "source": [
    "### The number of hours worked in one week\n",
    "### The hourly rate\n",
    "\n",
    "## For calculating pay:\n",
    "\n",
    "### For working 40 hours or less, each hour is paid at the hourly rate\n",
    "### For working more than 40 hours\n",
    "\n",
    "### the first 40 hours are paid at the hourly rate\n",
    "\n",
    "### each hour after 40 is paid at time and a half (hourly rate * 1.5)"
   ]
  },
  {
   "cell_type": "code",
   "execution_count": 3,
   "id": "dff64beb",
   "metadata": {},
   "outputs": [
    {
     "name": "stdout",
     "output_type": "stream",
     "text": [
      "how many hours? 41\n",
      "821.5\n"
     ]
    }
   ],
   "source": [
    "num_hours = input('how many hours? ')\n",
    "hour_rate = 20\n",
    "\n",
    "\n",
    "if int(num_hours) < 41:\n",
    "    print(int(num_hours) * hour_rate)\n",
    "if int(num_hours) > 40:\n",
    "    print((int(num_hours)*hour_rate)+((int(num_hours) >40 - 40) *1.5))\n",
    "    "
   ]
  },
  {
   "cell_type": "markdown",
   "id": "7dec5903",
   "metadata": {},
   "source": [
    "# LOOP BASICS"
   ]
  },
  {
   "cell_type": "markdown",
   "id": "5a35f12f",
   "metadata": {},
   "source": [
    "## While"
   ]
  },
  {
   "cell_type": "markdown",
   "id": "e6516797",
   "metadata": {},
   "source": [
    "### Create an integer variable i with a value of 5. Create a while loop that runs so long as i is less than or equal to 15. Each loop iteration, output the current value of i, then increment i by one."
   ]
  },
  {
   "cell_type": "code",
   "execution_count": 4,
   "id": "694716f2",
   "metadata": {
    "scrolled": true
   },
   "outputs": [
    {
     "name": "stdout",
     "output_type": "stream",
     "text": [
      "5\n",
      "6\n",
      "7\n",
      "8\n",
      "9\n",
      "10\n",
      "11\n",
      "12\n",
      "13\n",
      "14\n",
      "15\n"
     ]
    }
   ],
   "source": [
    "i = 5\n",
    "\n",
    "while i <= 15:\n",
    "    print(i)\n",
    "    i += 1"
   ]
  },
  {
   "cell_type": "markdown",
   "id": "515ba751",
   "metadata": {},
   "source": [
    "### Create a while loop that will count by 2's starting with 0 and ending at 100. Follow each number with a new line.\n"
   ]
  },
  {
   "cell_type": "code",
   "execution_count": 5,
   "id": "b60c100d",
   "metadata": {},
   "outputs": [
    {
     "name": "stdout",
     "output_type": "stream",
     "text": [
      "0\n",
      "2\n",
      "4\n",
      "6\n",
      "8\n",
      "10\n",
      "12\n",
      "14\n",
      "16\n",
      "18\n",
      "20\n",
      "22\n",
      "24\n",
      "26\n",
      "28\n",
      "30\n",
      "32\n",
      "34\n",
      "36\n",
      "38\n",
      "40\n",
      "42\n",
      "44\n",
      "46\n",
      "48\n",
      "50\n",
      "52\n",
      "54\n",
      "56\n",
      "58\n",
      "60\n",
      "62\n",
      "64\n",
      "66\n",
      "68\n",
      "70\n",
      "72\n",
      "74\n",
      "76\n",
      "78\n",
      "80\n",
      "82\n",
      "84\n",
      "86\n",
      "88\n",
      "90\n",
      "92\n",
      "94\n",
      "96\n",
      "98\n",
      "100\n"
     ]
    }
   ],
   "source": [
    "i = 0\n",
    "\n",
    "while i <= 100:\n",
    "    print(i)\n",
    "    i += 2"
   ]
  },
  {
   "cell_type": "markdown",
   "id": "38bee0e9",
   "metadata": {},
   "source": [
    "### Create a while loop that starts at 2, and displays the number squared on each line while the number is less than 1,000,000. Output should equal:"
   ]
  },
  {
   "cell_type": "code",
   "execution_count": 6,
   "id": "d3c88296",
   "metadata": {},
   "outputs": [
    {
     "name": "stdout",
     "output_type": "stream",
     "text": [
      "2\n",
      "4\n",
      "16\n",
      "256\n",
      "65536\n"
     ]
    }
   ],
   "source": [
    "i = 2\n",
    "\n",
    "while i <= 1000000:\n",
    "    print(i)\n",
    "    i *= i"
   ]
  },
  {
   "cell_type": "markdown",
   "id": "511bb5df",
   "metadata": {},
   "source": [
    "### Write a while loop that uses print to create the output shown below.\n",
    "\n",
    "100\n",
    "95\n",
    "90\n",
    "85\n",
    "80\n",
    "75\n",
    "70\n",
    "65\n",
    "60\n",
    "55\n",
    "50\n",
    "45\n",
    "40\n",
    "35\n",
    "30\n",
    "25\n",
    "20\n",
    "15\n",
    "10\n",
    "5\n"
   ]
  },
  {
   "cell_type": "code",
   "execution_count": 7,
   "id": "0e013a12",
   "metadata": {},
   "outputs": [
    {
     "name": "stdout",
     "output_type": "stream",
     "text": [
      "100\n",
      "95\n",
      "90\n",
      "85\n",
      "80\n",
      "75\n",
      "70\n",
      "65\n",
      "60\n",
      "55\n",
      "50\n",
      "45\n",
      "40\n",
      "35\n",
      "30\n",
      "25\n",
      "20\n",
      "15\n",
      "10\n",
      "5\n"
     ]
    }
   ],
   "source": [
    "i = 100\n",
    "\n",
    "while i >= 5:\n",
    "    print(i)\n",
    "    i -= 5"
   ]
  },
  {
   "cell_type": "markdown",
   "id": "0390c158",
   "metadata": {},
   "source": [
    "# For Loops"
   ]
  },
  {
   "cell_type": "markdown",
   "id": "b4e4f230",
   "metadata": {},
   "source": [
    "### Write some code using a for loop that prompts the user for a number, then shows a multiplication table up through 10 for that number."
   ]
  },
  {
   "cell_type": "code",
   "execution_count": 8,
   "id": "ead63105",
   "metadata": {
    "scrolled": true
   },
   "outputs": [
    {
     "name": "stdout",
     "output_type": "stream",
     "text": [
      "how many days: 5\n",
      "5 x 1 = 5\n",
      "5 x 2 = 10\n",
      "5 x 3 = 15\n",
      "5 x 4 = 20\n",
      "5 x 5 = 25\n",
      "5 x 6 = 30\n",
      "5 x 7 = 35\n",
      "5 x 8 = 40\n",
      "5 x 9 = 45\n",
      "5 x 10 = 50\n"
     ]
    }
   ],
   "source": [
    "number = int(input (\"how many days: \"))      \n",
    " \n",
    "\n",
    "for count in range (1,11):\n",
    "    print (number, 'x', count, '=', number * count)   "
   ]
  },
  {
   "cell_type": "markdown",
   "id": "814fa80d",
   "metadata": {},
   "source": [
    "## Create a for loop that uses print to create the output shown below.\n",
    "\n",
    "1\n",
    "22\n",
    "333\n",
    "4444\n",
    "55555\n",
    "666666\n",
    "7777777\n",
    "88888888\n",
    "999999999\n"
   ]
  },
  {
   "cell_type": "code",
   "execution_count": 9,
   "id": "3bb7fc52",
   "metadata": {},
   "outputs": [
    {
     "name": "stdout",
     "output_type": "stream",
     "text": [
      "how many rows? 7\n",
      "1\n",
      "22\n",
      "333\n",
      "4444\n",
      "55555\n",
      "666666\n",
      "7777777\n"
     ]
    }
   ],
   "source": [
    "n = int(input('how many rows? '))\n",
    "\n",
    "for x in range(1, n+ 1):\n",
    "    for y in range(1, x+1):\n",
    "        print(x, end=\"\")\n",
    "    print()\n",
    "        \n",
    "    "
   ]
  },
  {
   "cell_type": "markdown",
   "id": "bfe40d62",
   "metadata": {},
   "source": [
    "# break and continue"
   ]
  },
  {
   "cell_type": "markdown",
   "id": "8204209e",
   "metadata": {},
   "source": [
    "## Write a program that prompts the user for a positive integer. Next write a loop that prints out the numbers from the number the user entered down to 1."
   ]
  },
  {
   "cell_type": "code",
   "execution_count": 10,
   "id": "892ff9e6",
   "metadata": {},
   "outputs": [
    {
     "name": "stdout",
     "output_type": "stream",
     "text": [
      "Please enter a positive number: 9\n",
      "9\n",
      "8\n",
      "7\n",
      "6\n",
      "5\n",
      "4\n",
      "3\n",
      "2\n",
      "1\n"
     ]
    }
   ],
   "source": [
    "num = int(input('Please enter a positive number: '))\n",
    "\n",
    "while num >= 1:\n",
    "    print(num)\n",
    "    num -= 1\n",
    " \n",
    " \n",
    "\n",
    "\n",
    "\n"
   ]
  },
  {
   "cell_type": "markdown",
   "id": "4a32e356",
   "metadata": {},
   "source": [
    "## The input function can be used to prompt for input and use that input in your python code. Prompt the user to enter a positive number and write a loop that counts from 0 to that number. (Hints: note that the input function returns a string, so you'll need to convert this to a numeric type.)"
   ]
  },
  {
   "cell_type": "code",
   "execution_count": 11,
   "id": "0efa4e39",
   "metadata": {},
   "outputs": [
    {
     "name": "stdout",
     "output_type": "stream",
     "text": [
      "Please enter a positive number: 9\n",
      "0\n",
      "1\n",
      "2\n",
      "3\n",
      "4\n",
      "5\n",
      "6\n",
      "7\n",
      "8\n",
      "9\n"
     ]
    }
   ],
   "source": [
    "num = int(input('Please enter a positive number: '))\n",
    "\n",
    "for i in range(num + 1):\n",
    "    print(i)\n",
    "  \n",
    " \n",
    " \n",
    "    \n",
    "    \n",
    " "
   ]
  },
  {
   "cell_type": "markdown",
   "id": "153464ca",
   "metadata": {},
   "source": [
    "## Prompt the user for an odd number between 1 and 50. Use a loop and a break statement to continue prompting the user if they enter invalid input. (Hint: use the isdigit method on strings to determine this). Use a loop and the continue statement to output all the odd numbers between 1 and 50, except for the number the user entered."
   ]
  },
  {
   "cell_type": "code",
   "execution_count": 12,
   "id": "6514cbb5",
   "metadata": {},
   "outputs": [
    {
     "name": "stdout",
     "output_type": "stream",
     "text": [
      "Enter an odd number between 1 and 50: 34\n",
      "Invalid input. Please enter an odd number.\n",
      "Enter an odd number between 1 and 50: 33\n",
      "1\n",
      "3\n",
      "5\n",
      "7\n",
      "9\n",
      "11\n",
      "13\n",
      "15\n",
      "17\n",
      "19\n",
      "21\n",
      "23\n",
      "25\n",
      "27\n",
      "29\n",
      "31\n",
      "35\n",
      "37\n",
      "39\n",
      "41\n",
      "43\n",
      "45\n",
      "47\n",
      "49\n"
     ]
    }
   ],
   "source": [
    "while True:\n",
    "  number = input(\"Enter an odd number between 1 and 50: \")\n",
    "  if not number.isdigit():\n",
    "    print(\"Invalid input. Please enter a valid number.\")\n",
    "    continue\n",
    "  number = int(number)\n",
    "  if number % 2 == 0:\n",
    "    print(\"Invalid input. Please enter an odd number.\")\n",
    "    continue\n",
    "  if number < 1 or number > 50:\n",
    "    print(\"Invalid input. Please enter an odd number between 1 and 50.\")\n",
    "    continue\n",
    "  break\n",
    "\n",
    "\n",
    "for i in range(1, 51):\n",
    "  if i % 2 == 1 and i != number:\n",
    "    print(i)\n",
    "\n",
    "\n",
    "\n",
    "\n",
    "      "
   ]
  },
  {
   "cell_type": "code",
   "execution_count": 13,
   "id": "9b88ca87",
   "metadata": {},
   "outputs": [
    {
     "name": "stdout",
     "output_type": "stream",
     "text": [
      "Enter a odd number between 1 and 50: 33\n",
      "Here is your odd number:  1\n",
      "Here is your odd number:  3\n",
      "Here is your odd number:  5\n",
      "Here is your odd number:  7\n",
      "Here is your odd number:  9\n",
      "Here is your odd number:  11\n",
      "Here is your odd number:  13\n",
      "Here is your odd number:  15\n",
      "Here is your odd number:  17\n",
      "Here is your odd number:  19\n",
      "Here is your odd number:  21\n",
      "Here is your odd number:  23\n",
      "Here is your odd number:  25\n",
      "Here is your odd number:  27\n",
      "Here is your odd number:  29\n",
      "Here is your odd number:  31\n",
      "Yikes! Skipping this number:  33\n",
      "Here is your odd number:  35\n",
      "Here is your odd number:  37\n",
      "Here is your odd number:  39\n",
      "Here is your odd number:  41\n",
      "Here is your odd number:  43\n",
      "Here is your odd number:  45\n",
      "Here is your odd number:  47\n",
      "Here is your odd number:  49\n"
     ]
    }
   ],
   "source": [
    "while True:\n",
    "    num = input('Enter a odd number between 1 and 50: ')\n",
    "    if not num.isdigit():\n",
    "        print('you did not enter a number')\n",
    "        continue\n",
    "    num = int(num)\n",
    "    if num %2 == 0:\n",
    "        print('this is not an odd number')\n",
    "        continue\n",
    "    if num < 1 or num > 50:\n",
    "        print ('you did not enter a number between 1 - 50 ')\n",
    "        continue\n",
    "    break\n",
    "    \n",
    "for i in range(1, 51):\n",
    "    if i % 2 == 1 and i != num:\n",
    "        print('Here is your odd number: ', i)\n",
    "    elif i == num:\n",
    "        print('Yikes! Skipping this number: ', i)\n"
   ]
  },
  {
   "cell_type": "markdown",
   "id": "6829b039",
   "metadata": {},
   "source": [
    "# FIZZBUZZ"
   ]
  },
  {
   "cell_type": "markdown",
   "id": "c1a5a7d4",
   "metadata": {},
   "source": [
    "## One of the most common interview questions for entry-level programmers is the FizzBuzz test. Developed by Imran Ghory, the test is designed to test basic looping and conditional logic skills.\n",
    "\n",
    "### Write a program that prints the numbers from 1 to 100.\n",
    "### multiples of three print \"Fizz\" instead of the number\n",
    "### the multiples of five print \"Buzz\".\n",
    "### numbers which are multiples of both three and five print \"FizzBuzz\"."
   ]
  },
  {
   "cell_type": "code",
   "execution_count": 14,
   "id": "6723040e",
   "metadata": {},
   "outputs": [
    {
     "name": "stdout",
     "output_type": "stream",
     "text": [
      "1\n",
      "2\n",
      "Fizz\n",
      "4\n",
      "Buzz\n",
      "Fizz\n",
      "7\n",
      "8\n",
      "Fizz\n",
      "Buzz\n",
      "11\n",
      "Fizz\n",
      "13\n",
      "14\n",
      "FizzBuzz \n",
      "16\n",
      "17\n",
      "Fizz\n",
      "19\n",
      "Buzz\n",
      "Fizz\n",
      "22\n",
      "23\n",
      "Fizz\n",
      "Buzz\n",
      "26\n",
      "Fizz\n",
      "28\n",
      "29\n",
      "FizzBuzz \n",
      "31\n",
      "32\n",
      "Fizz\n",
      "34\n",
      "Buzz\n",
      "Fizz\n",
      "37\n",
      "38\n",
      "Fizz\n",
      "Buzz\n",
      "41\n",
      "Fizz\n",
      "43\n",
      "44\n",
      "FizzBuzz \n",
      "46\n",
      "47\n",
      "Fizz\n",
      "49\n",
      "Buzz\n",
      "Fizz\n",
      "52\n",
      "53\n",
      "Fizz\n",
      "Buzz\n",
      "56\n",
      "Fizz\n",
      "58\n",
      "59\n",
      "FizzBuzz \n",
      "61\n",
      "62\n",
      "Fizz\n",
      "64\n",
      "Buzz\n",
      "Fizz\n",
      "67\n",
      "68\n",
      "Fizz\n",
      "Buzz\n",
      "71\n",
      "Fizz\n",
      "73\n",
      "74\n",
      "FizzBuzz \n",
      "76\n",
      "77\n",
      "Fizz\n",
      "79\n",
      "Buzz\n",
      "Fizz\n",
      "82\n",
      "83\n",
      "Fizz\n",
      "Buzz\n",
      "86\n",
      "Fizz\n",
      "88\n",
      "89\n",
      "FizzBuzz \n",
      "91\n",
      "92\n",
      "Fizz\n",
      "94\n",
      "Buzz\n",
      "Fizz\n",
      "97\n",
      "98\n",
      "Fizz\n",
      "Buzz\n"
     ]
    }
   ],
   "source": [
    "for num in range(1,101):\n",
    "    if num %3 == 0 and num %5 == 0:\n",
    "            print ('FizzBuzz ')\n",
    "    elif num %3 == 0:\n",
    "        print('Fizz')\n",
    "    elif num %5 == 0:\n",
    "        print('Buzz')\n",
    "    else:\n",
    "        print(num)\n",
    "\n"
   ]
  },
  {
   "cell_type": "markdown",
   "id": "6c19e794",
   "metadata": {},
   "source": [
    "## Display a table of powers.\n",
    "\n",
    "### Prompt the user to enter an integer\n",
    "### Display a table of squares and cubes from 1 to the value entered\n",
    "### Ask if the user wants to continue\n",
    "### Assume that the user will enter valid data\n",
    "### Only continue if the user agrees to\n"
   ]
  },
  {
   "cell_type": "code",
   "execution_count": 15,
   "id": "ea3840ba",
   "metadata": {},
   "outputs": [
    {
     "name": "stdout",
     "output_type": "stream",
     "text": [
      "please enter a number: 7\n",
      "num | square | cube \n",
      "  1   |    1    |     1    \n",
      "  2   |    4    |     8    \n",
      "  3   |    9    |    27    \n",
      "  4   |   16    |    64    \n",
      "  5   |   25    |    125   \n",
      "  6   |   36    |    216   \n",
      "  7   |   49    |    343   \n",
      "Do you want to continue? (y/n): n\n"
     ]
    }
   ],
   "source": [
    "while True:\n",
    "    num = int(input('please enter a number: '))\n",
    "    \n",
    "    print(\"num | square | cube \")\n",
    "    for i in range(1, num +1):\n",
    "        print(f\"{i:^5} | {i ** 2:^7} | {i ** 3:^9}\")\n",
    "    user = input(\"Do you want to continue? (y/n): \")\n",
    "    if user == \"y\":\n",
    "        continue\n",
    "    else:\n",
    "        break\n",
    "    \n",
    "\n"
   ]
  },
  {
   "cell_type": "markdown",
   "id": "da115f88",
   "metadata": {},
   "source": [
    "## Convert given number grades into letter grades.\n",
    "\n",
    "### Prompt the user for a numerical grade from 0 to 100\n",
    "### Display the corresponding letter grade\n",
    "### Prompt the user to continue\n",
    "### Assume that the user will enter valid integers for the grades\n",
    "### The application should only continue if the user agrees to\n",
    "\n",
    "##### Grade Ranges:\n",
    "A : 100 - 88\n",
    "B : 87 - 80\n",
    "C : 79 - 67\n",
    "D : 66 - 60\n",
    "F : 59 - 0\n"
   ]
  },
  {
   "cell_type": "code",
   "execution_count": 16,
   "id": "ea6e390d",
   "metadata": {},
   "outputs": [
    {
     "name": "stdout",
     "output_type": "stream",
     "text": [
      "please enter in a grade from 0-100: 82\n",
      "B\n",
      "would you like to continue(y/n)?n\n"
     ]
    }
   ],
   "source": [
    "while True:\n",
    "    num = int(input('please enter in a grade from 0-100: '))\n",
    "    \n",
    "    if num > 100:\n",
    "        continue\n",
    "\n",
    "    if num >= 88:\n",
    "        print('A')\n",
    "        \n",
    "        \n",
    "    elif num >=80:\n",
    "        print('B')\n",
    "        \n",
    "        \n",
    "    elif num >= 67:\n",
    "        print('C')\n",
    "        \n",
    "        \n",
    "    elif num >= 60:\n",
    "        print('D')\n",
    "        \n",
    "        \n",
    "    elif num >= 0:\n",
    "        print('F')\n",
    "        \n",
    "        \n",
    "    user = input('would you like to continue(y/n)?')\n",
    "    if user == \"y\":\n",
    "        continue\n",
    "    else:\n",
    "        break"
   ]
  },
  {
   "cell_type": "markdown",
   "id": "c47d6c77",
   "metadata": {},
   "source": [
    "## Create a list of dictionaries where each dictionary represents a book that you have read. Each dictionary in the list should have the keys title, author, and genre. Loop through the list and print out information about each book.\n",
    "\n",
    "### Prompt the user to enter a genre, then loop through your books list and print out the titles of all the books in that genre."
   ]
  },
  {
   "cell_type": "code",
   "execution_count": 17,
   "id": "47778b76",
   "metadata": {},
   "outputs": [
    {
     "name": "stdout",
     "output_type": "stream",
     "text": [
      "Title: Twiheight\n",
      "Author: James L\n",
      "genre: adventure\n",
      "\n",
      "Title: SuperCrazy\n",
      "Author: Paul M\n",
      "genre: adventure\n",
      "\n",
      "Title: Goober\n",
      "Author: John D\n",
      "genre: comedy\n",
      "\n",
      "Title: Sad Man\n",
      "Author: Gary S\n",
      "genre: drama\n",
      "\n",
      "Type a genre to search for all books that have that genreadventure\n",
      "Twiheight\n",
      "SuperCrazy\n"
     ]
    }
   ],
   "source": [
    "books = [\n",
    "    {'Title': 'Twiheight', 'Author': 'James L', 'genre': 'adventure'},\n",
    "    {'Title': 'SuperCrazy', 'Author': 'Paul M', 'genre': 'adventure'},\n",
    "    {'Title': 'Goober', 'Author': 'John D', 'genre': 'comedy'},\n",
    "    {'Title': 'Sad Man', 'Author': 'Gary S', 'genre': 'drama'}\n",
    "    \n",
    "]\n",
    "\n",
    "for book in books:\n",
    "    print(f\"Title: {book['Title']}\")\n",
    "    print(f\"Author: {book['Author']}\")\n",
    "    print(f\"genre: {book['genre']}\")\n",
    "    print()\n",
    "    \n",
    "genre = input('Type a genre to search for all books that have that genre')\n",
    "\n",
    "for book in books:\n",
    "    if book[\"genre\"] == genre:\n",
    "        print(book['Title'])\n",
    "\n",
    "\n",
    "\n"
   ]
  }
 ],
 "metadata": {
  "kernelspec": {
   "display_name": "Python 3 (ipykernel)",
   "language": "python",
   "name": "python3"
  },
  "language_info": {
   "codemirror_mode": {
    "name": "ipython",
    "version": 3
   },
   "file_extension": ".py",
   "mimetype": "text/x-python",
   "name": "python",
   "nbconvert_exporter": "python",
   "pygments_lexer": "ipython3",
   "version": "3.10.9"
  }
 },
 "nbformat": 4,
 "nbformat_minor": 5
}
